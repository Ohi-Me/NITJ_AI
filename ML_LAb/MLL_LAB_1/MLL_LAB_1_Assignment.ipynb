{
  "metadata": {
    "kernelspec": {
      "name": "xpython",
      "display_name": "Python 3.13 (XPython)",
      "language": "python"
    },
    "language_info": {
      "file_extension": ".py",
      "mimetype": "text/x-python",
      "name": "python",
      "version": "3.13.1"
    }
  },
  "nbformat_minor": 5,
  "nbformat": 4,
  "cells": [
    {
      "id": "94edf456-d3d7-40ab-aeb9-0a07e936c372",
      "cell_type": "code",
      "source": "# Applying Linear Regression on {Watch hour vs marks}\n\n# Data\nWatch_hours = [0, 1, 2, 3, 3, 5, 5, 5, 6, 7, 7, 10]\nMarks_Obtained = [96, 85, 82, 74, 45, 68, 76, 84, 58, 65, 75, 50]\nn=len(Marks_Obtained)\n#mean\nMean_Watch_hours = sum(Watch_hours)/n\nMean_Marks_Obtained = sum(Marks_Obtained)/n\n#slope\nDeviation_Watch_Hours = []\nfor i in range(n):\n    Deviation_Watch_Hours.append(Watch_hours[i] - Mean_Watch_hours)\nDeviation_Marks_Obtained = []\nfor i in range(n):\n    Deviation_Marks_Obtained.append(Marks_Obtained[i] - Mean_Marks_Obtained)\nSquared_Deviation = []\nfor i in range(n):\n    Squared_Deviation.append(Deviation_Watch_Hours[i] ** 2)\n\nProduct_Deviation = []\nfor i in range(n):\n    product = Deviation_Watch_Hours[i] * Deviation_Marks_Obtained[i]\n    Product_Deviation.append(product)\n\nSlope = sum(Product_Deviation) / sum(Squared_Deviation)\nIntercept = Mean_Marks_Obtained - Slope * Mean_Watch_hours\n\n# Prediction\nNewHour = int(input(\"Enter hours you watch to predict marks: \"))\nMarks_u_Get = Intercept + Slope * NewHour\n\n# Display results\nprint(f\"Slope = {Slope:.2f}, Intercept = {Intercept:.2f}\")\nprint(f\"Predicted marks at {NewHour} hours = {Marks_u_Get:.2f}\")",
      "metadata": {
        "trusted": true
      },
      "outputs": [
        {
          "output_type": "stream",
          "name": "stdin",
          "text": "Enter hours you watch to predict marks:  9\n"
        },
        {
          "name": "stdout",
          "output_type": "stream",
          "text": "Slope = -3.22, Intercept = 86.01\nPredicted marks at 9 hours = 56.99\n"
        }
      ],
      "execution_count": 4
    },
    {
      "id": "ab12fc96-55fe-4e59-847d-7cf3f56b7087",
      "cell_type": "code",
      "source": "",
      "metadata": {
        "trusted": true
      },
      "outputs": [],
      "execution_count": null
    }
  ]
}
