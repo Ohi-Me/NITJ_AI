{
  "cells": [
    {
      "cell_type": "code",
      "execution_count": null,
      "id": "d48c3b07-4339-455d-8893-4e8e9c301c9e",
      "metadata": {
        "scrolled": true,
        "trusted": true
      },
      "outputs": [
        {
          "name": "stdout",
          "output_type": "stream",
          "text": [
            "Enter number of tuples:  5\n",
            "Enter tuple 1 (two numbers):  2 5\n",
            "Enter tuple 2 (two numbers):  3 6\n",
            "Enter tuple 3 (two numbers):  4 7\n",
            "Enter tuple 4 (two numbers):  5 8\n",
            "Enter tuple 5 (two numbers):  7 9\n"
          ]
        },
        {
          "name": "stdout",
          "output_type": "stream",
          "text": [
            "Current List\n",
            "[(2, 5), (3, 6), (4, 7), (5, 8), (7, 9)]\n",
            "Sorted List\n",
            "[(2, 5), (3, 6), (4, 7), (5, 8), (7, 9)]\n"
          ]
        }
      ],
      "source": [
        "#1 Sort tuples by last element\n",
        "n = int(input(\"Enter number of tuples: \"))\n",
        "List = []\n",
        "for i in range(n):\n",
        "    a, b = map(int, input(f\"Enter tuple {i+1} (two numbers): \").split())\n",
        "    List.append((a, b))\n",
        "print(\"Current List\")\n",
        "print(List)\n",
        "print(\"Sorted List\")\n",
        "# Sort using last element\n",
        "NewList = sorted(List, key=lambda t:t[-1])\n",
        "print(NewList)"
      ]
    },
    {
      "cell_type": "code",
      "execution_count": 9,
      "id": "8ceccb8c-18f2-4249-a584-f1d5cd63b763",
      "metadata": {
        "trusted": true
      },
      "outputs": [
        {
          "name": "stdout",
          "output_type": "stream",
          "text": [
            "Enter a string:  ioiywugcwbnio\n"
          ]
        },
        {
          "name": "stdout",
          "output_type": "stream",
          "text": [
            "Modified string: io$ywugcwbn$o\n"
          ]
        }
      ],
      "source": [
        "#2 Program to replace all occurrences of the first character with '$' except the first\n",
        "s = input(\"Enter a string: \")\n",
        "n=len(s)\n",
        "gtr=\"\"\n",
        "gtr+=s[0]\n",
        "for i in range(1,n):\n",
        "    if(s[i]==s[0]):\n",
        "        gtr+=\"$\"\n",
        "    else:\n",
        "        gtr+=s[i]\n",
        "print(\"Modified string:\",gtr)\n"
      ]
    },
    {
      "cell_type": "code",
      "execution_count": null,
      "id": "e41d9024-e210-41b4-b0be-a9196248ad94",
      "metadata": {
        "trusted": true
      },
      "outputs": [
        {
          "name": "stdout",
          "output_type": "stream",
          "text": [
            "The movie is good!\n",
            "This dinner is good\n",
            "The weather is poor, not nice\n"
          ]
        }
      ],
      "source": [
        "#3 Replace the substring \"not ... poor\" with \"good\" if \"poor\" follows \"not\"\n",
        "def not_poor_replace(s):\n",
        "    not_index = s.find('not')\n",
        "    poor_index = s.find('poor')\n",
        "    if not_index != -1 and poor_index != -1 and poor_index > not_index:\n",
        "        s = s[:not_index] + 'good' + s[poor_index + 4:]\n",
        "    return s\n",
        "\n",
        "# Test\n",
        "print(not_poor_replace(\"The movie is not that poor!\"))\n",
        "print(not_poor_replace(\"This dinner is not so poor\"))\n",
        "print(not_poor_replace(\"The weather is poor, not nice\"))\n"
      ]
    },
    {
      "cell_type": "code",
      "execution_count": 17,
      "id": "16daafcd-a837-4e8f-8d21-57c59a13c1ba",
      "metadata": {
        "trusted": true
      },
      "outputs": [
        {
          "name": "stdout",
          "output_type": "stream",
          "text": [
            "Enter size of Dictionary:  3\n"
          ]
        },
        {
          "name": "stdout",
          "output_type": "stream",
          "text": [
            "Enter values of Dictionary\n"
          ]
        },
        {
          "name": "stdout",
          "output_type": "stream",
          "text": [
            "Enter key:  CSE\n",
            "Enter value:  3\n",
            "Enter key:  DA\n",
            "Enter value:  2\n",
            "Enter key:  AI\n",
            "Enter value:  1\n"
          ]
        },
        {
          "name": "stdout",
          "output_type": "stream",
          "text": [
            "Before Sorting Dictionary\n",
            "{'CSE': '3', 'DA': '2', 'AI': '1'}\n",
            "After sorting Dictionary\n",
            "{'AI': '1', 'CSE': '3', 'DA': '2'}\n"
          ]
        }
      ],
      "source": [
        "#4 sort dictionary\n",
        "n=int(input(\"Enter size of Dictionary: \"))\n",
        "dic={}\n",
        "print(\"Enter values of Dictionary\")\n",
        "for i in range(n):\n",
        "    key = input(\"Enter key: \")\n",
        "    value = input(\"Enter value: \")\n",
        "    dic[key] = value\n",
        "print(\"Before Sorting Dictionary\")\n",
        "print(dic)\n",
        "sortDic=dict(sorted(dic.items()))\n",
        "print(\"After sorting Dictionary\")\n",
        "print(sortDic)\n"
      ]
    },
    {
      "cell_type": "code",
      "execution_count": null,
      "id": "b6c0e1b1-823c-4e3e-9cdf-5fd53a5bcd94",
      "metadata": {
        "trusted": true
      },
      "outputs": [
        {
          "name": "stdout",
          "output_type": "stream",
          "text": [
            "Enter size of Dictionary:  2\n"
          ]
        },
        {
          "name": "stdout",
          "output_type": "stream",
          "text": [
            "Enter values of Dictionary\n"
          ]
        },
        {
          "name": "stdout",
          "output_type": "stream",
          "text": [
            "Enter key:  CSE\n",
            "Enter value:  2\n",
            "Enter key:  AI\n",
            "Enter value:  1\n"
          ]
        },
        {
          "name": "stdout",
          "output_type": "stream",
          "text": [
            "Your Dictionary as: \n",
            "{'CSE': '2', 'AI': '1'}\n"
          ]
        },
        {
          "name": "stdout",
          "output_type": "stream",
          "text": [
            "Enter how many keys do u want to add:  2\n",
            "Enter new key to add:  DA\n",
            "Value for the keys:  3\n",
            "Enter new key to add:  IS\n",
            "Value for the keys:  4\n"
          ]
        },
        {
          "name": "stdout",
          "output_type": "stream",
          "text": [
            "Dictionary after adding new key:\n",
            "{'CSE': '2', 'AI': '1', 'DA': 3, 'IS': 4}\n"
          ]
        }
      ],
      "source": [
        "#5 wap to add key in dictionary\n",
        "n=int(input(\"Enter size of Dictionary: \"))\n",
        "dic={}\n",
        "print(\"Enter values of Dictionary\")\n",
        "for i in range(n):\n",
        "    key = input(\"Enter key: \")\n",
        "    value = input(\"Enter value: \")\n",
        "    dic[key] = value\n",
        "print(\"Your Dictionary as: \")\n",
        "print(dic)\n",
        "\n",
        "#to add new key\n",
        "x=int(input(\"Enter how many keys do u want to add: \"))\n",
        "for i in range(x):\n",
        "    nKey=input(\"Enter new key to add: \")\n",
        "    nValue=int(input(\"Value for the keys: \"))\n",
        "    dic[nKey]=nValue\n",
        "print(\"Dictionary after adding new key:\")\n",
        "print(dic)"
      ]
    },
    {
      "cell_type": "code",
      "execution_count": null,
      "id": "9cf21416-78bd-48a7-93de-24c848ec25b0",
      "metadata": {
        "trusted": true
      },
      "outputs": [],
      "source": []
    }
  ],
  "metadata": {
    "kernelspec": {
      "display_name": "Python (Pyodide)",
      "language": "python",
      "name": "python"
    },
    "language_info": {
      "codemirror_mode": {
        "name": "python",
        "version": 3
      },
      "file_extension": ".py",
      "mimetype": "text/x-python",
      "name": "python",
      "nbconvert_exporter": "python",
      "pygments_lexer": "ipython3",
      "version": "3.8"
    }
  },
  "nbformat": 4,
  "nbformat_minor": 5
}
