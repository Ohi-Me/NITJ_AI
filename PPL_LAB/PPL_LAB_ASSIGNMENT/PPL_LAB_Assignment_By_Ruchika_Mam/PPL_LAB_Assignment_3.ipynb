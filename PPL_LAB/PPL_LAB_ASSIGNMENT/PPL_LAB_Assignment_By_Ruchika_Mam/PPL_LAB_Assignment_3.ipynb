{
  "metadata": {
    "kernelspec": {
      "name": "xpython",
      "display_name": "Python 3.13 (XPython)",
      "language": "python"
    },
    "language_info": {
      "file_extension": ".py",
      "mimetype": "text/x-python",
      "name": "python",
      "version": "3.13.1"
    }
  },
  "nbformat_minor": 5,
  "nbformat": 4,
  "cells": [
    {
      "id": "9c72153e-3795-44fc-9b2a-d41bd0e0f477",
      "cell_type": "code",
      "source": "# Q1) Generate all prime numbers less than 100 and print them in a spiral format (clockwise spiral).\n\ndef is_prime(n):\n    if n < 2:\n        return False\n    for i in range(2, int(n**0.5)+1):\n        if n % i == 0:\n            return False\n    return True\n\n# Step 1: collect primes under 100\nprimes = [x for x in range(100) if is_prime(x)]\n\n# Step 2: find minimal square size\nimport math\nn = len(primes)  # 25 primes under 100\nsize = math.ceil(n**0.5)  # minimal square dimension\nspiral = [[0]*size for _ in range(size)]\n\n# Step 3: fill in spiral order\ntop, left, right, bottom = 0, 0, size-1, size-1\nidx = 0\nwhile top <= bottom and left <= right:\n    for j in range(left, right+1):\n        if idx < n: spiral[top][j] = primes[idx]; idx+=1\n    top+=1\n    for i in range(top, bottom+1):\n        if idx < n: spiral[i][right] = primes[idx]; idx+=1\n    right-=1\n    for j in range(right, left-1, -1):\n        if idx < n: spiral[bottom][j] = primes[idx]; idx+=1\n    bottom-=1\n    for i in range(bottom, top-1, -1):\n        if idx < n: spiral[i][left] = primes[idx]; idx+=1\n    left+=1\n\n# Step 4: print spiral\nfor row in spiral:\n    print(\" \".join(f\"{x:2d}\" if x!=0 else \" .\" for x in row))",
      "metadata": {
        "trusted": true
      },
      "outputs": [
        {
          "name": "stdout",
          "output_type": "stream",
          "text": " 2  3  5  7 11\n53 59 61 67 13\n47 89 97 71 17\n43 83 79 73 19\n41 37 31 29 23\n"
        }
      ],
      "execution_count": 2
    },
    {
      "id": "e81adf80-f90d-4d30-8828-b77e7ac5c930",
      "cell_type": "code",
      "source": "# Q2) Use a for loop to create a text-based graph of hourly views.\n# Each '*' represents 5 views. Input is taken from the user.\n\nhours = int(input(\"Enter number of hours: \"))\nviews = []\nfor i in range(hours):\n    v = int(input(f\"Enter views for hour {i+1}: \"))\n    views.append(v)\n\nprint(\"\\nHourly Views Graph:\")\nfor hour, v in enumerate(views, start=1):\n    stars = \"*\" * (v // 5)\n    print(f\"Hour {hour}: {stars}\")",
      "metadata": {
        "trusted": true
      },
      "outputs": [
        {
          "output_type": "stream",
          "name": "stdin",
          "text": "Enter number of hours:  5\nEnter views for hour 1:  20\nEnter views for hour 2:  34\nEnter views for hour 3:  06\nEnter views for hour 4:  12\nEnter views for hour 5:  24\n"
        },
        {
          "name": "stdout",
          "output_type": "stream",
          "text": "\nHourly Views Graph:\nHour 1: ****\nHour 2: ******\nHour 3: *\nHour 4: **\nHour 5: ****\n"
        }
      ],
      "execution_count": 3
    },
    {
      "id": "37180858-5b3e-4f7e-a7d8-7228570d5100",
      "cell_type": "code",
      "source": "# Q3) Each video watched generates revenue:\n# - First 10 views: $0.50 each\n# - Next 20 views: $0.30 each\n# - Remaining views: $0.10 each\n# Given hourly views from user, calculate total daily revenue.\n\nhours = int(input(\"Enter number of hours: \"))\nviews = []\nfor i in range(hours):\n    v = int(input(f\"Enter views for hour {i+1}: \"))\n    views.append(v)\n\ndef calc_revenue(v):\n    if v <= 10:\n        return v * 0.5\n    elif v <= 30:\n        return 10*0.5 + (v-10)*0.3\n    else:\n        return 10*0.5 + 20*0.3 + (v-30)*0.1\n\ntotal_revenue = sum(calc_revenue(v) for v in views)\nprint(\"\\nTotal Daily Revenue: $\", round(total_revenue, 2))",
      "metadata": {
        "trusted": true
      },
      "outputs": [
        {
          "output_type": "stream",
          "name": "stdin",
          "text": "Enter number of hours:  5\nEnter views for hour 1:  20\nEnter views for hour 2:  6\nEnter views for hour 3:  2\nEnter views for hour 4:  34\nEnter views for hour 5:  24\n"
        },
        {
          "name": "stdout",
          "output_type": "stream",
          "text": "\nTotal Daily Revenue: $ 32.6\n"
        }
      ],
      "execution_count": 4
    },
    {
      "id": "55010d6b-c01a-4532-8850-69f3cfefe53c",
      "cell_type": "code",
      "source": "",
      "metadata": {
        "trusted": true
      },
      "outputs": [],
      "execution_count": null
    }
  ]
}