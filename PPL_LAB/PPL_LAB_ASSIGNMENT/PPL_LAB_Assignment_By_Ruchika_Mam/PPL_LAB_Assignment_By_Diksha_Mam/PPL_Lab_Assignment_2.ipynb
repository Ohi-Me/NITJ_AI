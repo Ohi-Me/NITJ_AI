{
  "metadata": {
    "kernelspec": {
      "name": "xpython",
      "display_name": "Python 3.13 (XPython)",
      "language": "python"
    },
    "language_info": {
      "file_extension": ".py",
      "mimetype": "text/x-python",
      "name": "python",
      "version": "3.13.1"
    }
  },
  "nbformat_minor": 5,
  "nbformat": 4,
  "cells": [
    {
      "id": "53368878-1e0f-4087-885e-c03a1d2725a1",
      "cell_type": "code",
      "source": "# 1. Positive or Negative\nnum = float(input(\"Enter a Number lets see It is Positive or Neatvie or Zero: \"))\nif num > 0:\n    print(f\"The Number {num} You Gave is Positive\")\nelif num < 0:\n    print(f\"The Number {num} You Gave is Negative\")\nelse:\n    print(f\"The Number {num} You Gave is Zero\")",
      "metadata": {
        "trusted": true
      },
      "outputs": [
        {
          "output_type": "stream",
          "name": "stdin",
          "text": "Enter a Number lets see It is Positive or Neatvie or Zero:  8765432\n"
        },
        {
          "name": "stdout",
          "output_type": "stream",
          "text": "The Number 8765432.0 You Gave is Positive\n"
        }
      ],
      "execution_count": 4
    },
    {
      "id": "c6fd7ce2-3789-4c43-b481-12bb9f81c169",
      "cell_type": "code",
      "source": "# 2. Even or Odd\nnum = int(input(\"Enter an integer to check if it is Even or Odd: \"))\nif num % 2 == 0:\n    print(f\"The number {num} is Even.\")\nelse:\n    print(f\"The number {num} is Odd.\")",
      "metadata": {
        "trusted": true
      },
      "outputs": [
        {
          "output_type": "stream",
          "name": "stdin",
          "text": "Enter an integer to check if it is Even or Odd:  23456\n"
        },
        {
          "name": "stdout",
          "output_type": "stream",
          "text": "The number 23456 is Even.\n"
        }
      ],
      "execution_count": 5
    },
    {
      "id": "dd61c726-0614-4274-85de-d4d60cd94144",
      "cell_type": "code",
      "source": "# 3. Largest of Two Numbers\nprint(\"Enter two number lets check which is greater\")\na = float(input(\"Enter the first number: \"))\nb = float(input(\"Enter the second number: \"))\nif a > b:\n    print(f\"The first number {a} is larger than the second number {b}.\")\nelif b > a:\n    print(f\"The second number {b} is larger than the first number {a}.\")\nelse:\n    print(f\"Both numbers {a} and {b} are equal.\")",
      "metadata": {
        "trusted": true
      },
      "outputs": [
        {
          "name": "stdout",
          "output_type": "stream",
          "text": "Enter two number lets check which is greater\n"
        },
        {
          "output_type": "stream",
          "name": "stdin",
          "text": "Enter the first number:  54\nEnter the second number:  564\n"
        },
        {
          "name": "stdout",
          "output_type": "stream",
          "text": "The second number 564.0 is larger than the first number 54.0.\n"
        }
      ],
      "execution_count": 6
    },
    {
      "id": "0b814c1e-5079-4b06-a375-c62e4ecd54db",
      "cell_type": "code",
      "source": "# 4. Absolute Value of given Number\nnum = float(input(\"Enter a number to find its Absolute Value: \"))\nabsolute = num if num >= 0 else -num\nabsolute = 0\nif num >=0 :\n    absolute=num\nelse :\n    absolute=-num\nprint(f\"The absolute value of {num} is {absolute}.\")",
      "metadata": {
        "trusted": true
      },
      "outputs": [
        {
          "output_type": "stream",
          "name": "stdin",
          "text": "Enter a number to find its Absolute Value:  -8765\n"
        },
        {
          "name": "stdout",
          "output_type": "stream",
          "text": "The absolute value of -8765.0 is 8765.0.\n"
        }
      ],
      "execution_count": 8
    },
    {
      "id": "d3a3cc2e-f68f-4338-b527-65f6d4177254",
      "cell_type": "code",
      "source": "# 5. Eligibility for Voting\nage = int(input(\"Enter your age to check voting eligibility: \"))\nif age >= 18:\n    print(f\"You are {age} years old, so you are eligible to vote.\")\nelse:\n    print(f\"You are {age} years old, so you are NOT eligible to vote.\")",
      "metadata": {
        "trusted": true
      },
      "outputs": [
        {
          "output_type": "stream",
          "name": "stdin",
          "text": "Enter your age to check voting eligibility:  23\n"
        },
        {
          "name": "stdout",
          "output_type": "stream",
          "text": "You are 23 years old, so you are eligible to vote.\n"
        }
      ],
      "execution_count": 9
    },
    {
      "id": "0fcc7a37-4a11-4d51-a3bd-be3b83eb0b21",
      "cell_type": "code",
      "source": "# 6. Leap Year Check\nyear = int(input(\"Enter a year to check if it is a Leap Year: \"))\nif (year % 4 == 0 and year % 100 != 0) or (year % 400 == 0):\n    print(f\"The year {year} is a Leap Year.\")\nelse:\n    print(f\"The year {year} is NOT a Leap Year.\")",
      "metadata": {
        "trusted": true
      },
      "outputs": [
        {
          "output_type": "stream",
          "name": "stdin",
          "text": "Enter a year to check if it is a Leap Year:  9876\n"
        },
        {
          "name": "stdout",
          "output_type": "stream",
          "text": "The year 9876 is a Leap Year.\n"
        }
      ],
      "execution_count": 10
    },
    {
      "id": "cf3e1c8c-8e17-491f-96f9-87a4a39be789",
      "cell_type": "code",
      "source": "# 7. Grade Calculation\nmarks = float(input(\"Enter your marks to check if you Pass or Fail: \"))\nif marks >= 40:\n    print(f\"You scored {marks} marks, so you Pass.\")\nelse:\n    print(f\"You scored {marks} marks, so you Fail.\")",
      "metadata": {
        "trusted": true
      },
      "outputs": [
        {
          "output_type": "stream",
          "name": "stdin",
          "text": "Enter your marks to check if you Pass or Fail:  98\n"
        },
        {
          "name": "stdout",
          "output_type": "stream",
          "text": "You scored 98.0 marks, so you Pass.\n"
        }
      ],
      "execution_count": 11
    },
    {
      "id": "a8444ee9-6719-4ff8-92e1-4d79016b61fe",
      "cell_type": "code",
      "source": "# 8. Multiple of 5\nnum = int(input(\"Enter a number to check if it is a Multiple of 5: \"))\nif num % 5 == 0:\n    print(f\"The number {num} is a Multiple of 5.\")\nelse:\n    print(f\"The number {num} is NOT a Multiple of 5.\")",
      "metadata": {
        "trusted": true
      },
      "outputs": [
        {
          "output_type": "stream",
          "name": "stdin",
          "text": "Enter a number to check if it is a Multiple of 5:  2344\n"
        },
        {
          "name": "stdout",
          "output_type": "stream",
          "text": "The number 2344 is NOT a Multiple of 5.\n"
        }
      ],
      "execution_count": 12
    },
    {
      "id": "14fbae87-43f8-4f1d-96e3-a917645e78fc",
      "cell_type": "code",
      "source": "# 9. Character Case Check\nch = input(\"Enter a single character to check its case: \")\nif len(ch) != 1:\n    print(\"Please enter exactly one character.\")\nelif ch.isupper():\n    print(f\"The character '{ch}' is an Uppercase letter.\")\nelif ch.islower():\n    print(f\"The character '{ch}' is a Lowercase letter.\")\nelse:\n    print(f\"The character '{ch}' is not a letter.\")",
      "metadata": {
        "trusted": true
      },
      "outputs": [
        {
          "output_type": "stream",
          "name": "stdin",
          "text": "Enter a single character to check its case:  W\n"
        },
        {
          "name": "stdout",
          "output_type": "stream",
          "text": "The character 'W' is an Uppercase letter.\n"
        }
      ],
      "execution_count": 15
    },
    {
      "id": "5bde5a38-2f35-4b55-96ab-db25e71ea6d0",
      "cell_type": "code",
      "source": "100# 10. Discount Calculator\nprice = float(input(\"Enter the original price of the item: \"))\ndiscount_percent = float(input(\"Enter the discount percentage: \"))\ndiscount_amount = price * discount_percent / 100\nfinal_price = price - discount_amount\nprint(f\"The discount amount is: {discount_amount}\")\nprint(f\"The final price after discount is: {final_price}\")",
      "metadata": {
        "trusted": true
      },
      "outputs": [
        {
          "output_type": "stream",
          "name": "stdin",
          "text": "Enter the original price of the item:  1000\nEnter the discount percentage:  10\n"
        },
        {
          "name": "stdout",
          "output_type": "stream",
          "text": "The discount amount is: 100.0\nThe final price after discount is: 900.0\n"
        }
      ],
      "execution_count": 16
    },
    {
      "id": "b8798b13-e60d-424b-a31e-a7886064653b",
      "cell_type": "code",
      "source": "",
      "metadata": {
        "trusted": true
      },
      "outputs": [],
      "execution_count": null
    }
  ]
}