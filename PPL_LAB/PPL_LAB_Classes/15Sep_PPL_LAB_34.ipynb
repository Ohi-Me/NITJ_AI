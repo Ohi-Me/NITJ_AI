{
  "metadata": {
    "kernelspec": {
      "name": "xpython",
      "display_name": "Python 3.13 (XPython)",
      "language": "python"
    },
    "language_info": {
      "file_extension": ".py",
      "mimetype": "text/x-python",
      "name": "python",
      "version": "3.13.1"
    }
  },
  "nbformat_minor": 5,
  "nbformat": 4,
  "cells": [
    {
      "id": "0f934f25-6187-4d4d-92e9-5b512f590043",
      "cell_type": "code",
      "source": "#pattern\nx=int(input(\"Give Number: \"))\nprint(\"Pattern\\n\")\nfor i in range(1,x+1):\n    y=x-i\n    for j in range(1,x+1):\n        if(j<=y):\n            print(\" \",end=\" \")\n        else:\n            print(f\"{j}\",end=\" \")\n    print()",
      "metadata": {
        "trusted": true
      },
      "outputs": [
        {
          "output_type": "stream",
          "name": "stdin",
          "text": "Give Number:  10\n"
        },
        {
          "name": "stdout",
          "output_type": "stream",
          "text": "Pattern\n\n                  10 \n                9 10 \n              8 9 10 \n            7 8 9 10 \n          6 7 8 9 10 \n        5 6 7 8 9 10 \n      4 5 6 7 8 9 10 \n    3 4 5 6 7 8 9 10 \n  2 3 4 5 6 7 8 9 10 \n1 2 3 4 5 6 7 8 9 10 \n"
        }
      ],
      "execution_count": 17
    },
    {
      "id": "2978fb01-38c5-488b-ba1f-976bbc7a4cee",
      "cell_type": "code",
      "source": "#calender\n#wap to genrate calender\ny=input(\"Give day as  SUN MON TUE WED THR FRI SAT \").upper()\nx=int(input(\"How much days in month like august has 31 so give 31: \"))\nprint()\nprint(\" SUN MON TUE WED THR FRI SAT \")\nday=[ \"SUN\", \"MON\", \"TUE\" ,\"WED\", \"THR\" ,\"FRI\" ,\"SAT\"]\nstart_day=day.index(y)\nfor i in range(start_day):\n    print(\"    \", end=\"\")\nfor i in range(1,x+1):\n    print(f\"{i:3}\",end=\" \")\n    if(start_day+i)%7==0:\n        print()",
      "metadata": {
        "trusted": true
      },
      "outputs": [
        {
          "output_type": "stream",
          "name": "stdin",
          "text": "Give day as  SUN MON TUE WED THR FRI SAT  sat\nHow much days in month like august has 31 so give 31:  30\n"
        },
        {
          "name": "stdout",
          "output_type": "stream",
          "text": "\n SUN MON TUE WED THR FRI SAT \n                          1 \n  2   3   4   5   6   7   8 \n  9  10  11  12  13  14  15 \n 16  17  18  19  20  21  22 \n 23  24  25  26  27  28  29 \n 30 "
        }
      ],
      "execution_count": 55
    },
    {
      "id": "f5aeabb5-2b01-445d-a5ab-da7b21a5cf0c",
      "cell_type": "code",
      "source": "#wap to sum of series\n#1/2 + 2/3 + ....+n/n+1\nn=int(input(\"Enter number : \"))\nsum=0\nfor i in range(1,n+1):\n    sum+=i/(i+1)\nprint(sum)",
      "metadata": {
        "trusted": true
      },
      "outputs": [
        {
          "output_type": "stream",
          "name": "stdin",
          "text": "Enter number :  1\n"
        },
        {
          "name": "stdout",
          "output_type": "stream",
          "text": "0.5\n"
        }
      ],
      "execution_count": 58
    },
    {
      "id": "8a44bcba-9e31-4b79-aa83-8d535be34d4e",
      "cell_type": "code",
      "source": "#wap to sum of series\n#1/1 + 2^2/2 + 3^3/3 + ....+n^n/n\nn=int(input(\"Enter number : \"))\nsum=0\nfor i in range(1,n+1):\n    sum+=i*i/(i)\nprint(sum)",
      "metadata": {
        "trusted": true
      },
      "outputs": [
        {
          "output_type": "stream",
          "name": "stdin",
          "text": "Enter number :  1\n"
        },
        {
          "name": "stdout",
          "output_type": "stream",
          "text": "1.0\n"
        }
      ],
      "execution_count": 59
    },
    {
      "id": "ea1d4de1-bb82-43ca-a4f3-4130cf8645ea",
      "cell_type": "code",
      "source": "#wap to print a 3*3 grid\n#(0,0) (0,1) (0,2)\n#....\nx=int(input(\"Enter the number to print Grid n*n : \"))\nfor i in range(0,x):\n    for j in range(0,x):\n        print(f\"({i},{j}) \",end=\"\")\n    print()",
      "metadata": {
        "trusted": true
      },
      "outputs": [
        {
          "output_type": "stream",
          "name": "stdin",
          "text": "Enter the number to print Grid n*n :  3\n"
        },
        {
          "name": "stdout",
          "output_type": "stream",
          "text": "(0,0) (0,1) (0,2) \n(1,0) (1,1) (1,2) \n(2,0) (2,1) (2,2) \n"
        }
      ],
      "execution_count": 65
    },
    {
      "id": "22f08727-2e9e-49df-a530-3fa59926d366",
      "cell_type": "markdown",
      "source": "<!-- ## wap to perform matrix multiplication -->\nn=int(input(\"Enter the size of Matrix A and B n*n : \"))\nprint(\"Cross Multiplication AxB\")\narr = []\nfor i in range(n):\n    row = []\n    for j in range(n):\n        val = int(input(f\"A[{i}][{j}]: \"))\n        row.append(val)\n    arr.append(row)\ngrr=[]\nfor i in range(0,n):\n    row=[]\n    for j in range(0,n):\n        val=int(input(f\"B[{i}][{j}]: \"))\n        row.append(val)\n    grr.append(row)\nans=[]\nfor i in range(0,n):\n    row=[]\n    for j in range(0,n):\n        row.append(0)\n    ans.append(row)\nfor i in range(n):\n    for j in range(n):\n        for t in range(n):\n            ans[i][j]+=arr[i][t]*grr[t][j]\nprint(\"Matrix A\")\nfor row in arr:\n    print(row)\nprint(\"Matrix B\")\nfor row in grr:\n    print(row)\nprint(\"Matrix AxB\")\nfor row in ans:\n    print(row)",
      "metadata": {}
    },
    {
      "id": "26e5cf2e-0b14-4490-9914-59df7bb91e63",
      "cell_type": "code",
      "source": "# wap to perform matrix multiplication \nn=int(input(\"Enter the size of Matrix A and B n*n : \"))\nprint(\"Cross Multiplication AxB\")\narr = []\nfor i in range(n):\n    row = []\n    for j in range(n):\n        val = int(input(f\"A[{i}][{j}]: \"))\n        row.append(val)\n    arr.append(row)\ngrr=[]\nfor i in range(0,n):\n    row=[]\n    for j in range(0,n):\n        val=int(input(f\"B[{i}][{j}]: \"))\n        row.append(val)\n    grr.append(row)\nans=[]\nfor i in range(0,n):\n    row=[]\n    for j in range(0,n):\n        row.append(0)\n    ans.append(row)\nfor i in range(n):\n    for j in range(n):\n        for t in range(n):\n            ans[i][j]+=arr[i][t]*grr[t][j]\nprint(\"Matrix A\")\nfor row in arr:\n    print(row)\nprint(\"Matrix B\")\nfor row in grr:\n    print(row)\nprint(\"Matrix AxB\")\nfor row in ans:\n    print(row)",
      "metadata": {
        "trusted": true
      },
      "outputs": [
        {
          "output_type": "stream",
          "name": "stdin",
          "text": "Enter the size of Matrix A and B n*n :  3\n"
        },
        {
          "name": "stdout",
          "output_type": "stream",
          "text": "Cross Multiplication AxB\n"
        },
        {
          "output_type": "stream",
          "name": "stdin",
          "text": "A[0][0]:  2\nA[0][1]:  3\nA[0][2]:  3\nA[1][0]:  4\nA[1][1]:  4\nA[1][2]:  4\nA[2][0]:  2\nA[2][1]:  2\nA[2][2]:  2\nB[0][0]:  2\nB[0][1]:  2\nB[0][2]:  2\nB[1][0]:  2\nB[1][1]:  2\nB[1][2]:  2\nB[2][0]:  2\nB[2][1]:  2\nB[2][2]:  2\n"
        },
        {
          "name": "stdout",
          "output_type": "stream",
          "text": "Matrix A\n[2, 3, 3]\n[4, 4, 4]\n[2, 2, 2]\nMatrix B\n[2, 2, 2]\n[2, 2, 2]\n[2, 2, 2]\nMatrix AxB\n[16, 16, 16]\n[24, 24, 24]\n[12, 12, 12]\n"
        }
      ],
      "execution_count": 74
    },
    {
      "id": "776c6028-e872-458a-8db9-90d8fa6ef750",
      "cell_type": "code",
      "source": "",
      "metadata": {
        "trusted": true
      },
      "outputs": [],
      "execution_count": null
    }
  ]
}