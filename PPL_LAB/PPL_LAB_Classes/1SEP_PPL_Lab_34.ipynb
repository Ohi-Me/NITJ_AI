{
 "cells": [
  {
   "cell_type": "code",
   "execution_count": 3,
   "id": "6485cca3-61b3-4490-909a-6aa6041931d8",
   "metadata": {},
   "outputs": [
    {
     "name": "stdout",
     "output_type": "stream",
     "text": [
      "Hello\n"
     ]
    }
   ],
   "source": [
    "print('Hello')"
   ]
  },
  {
   "cell_type": "code",
   "execution_count": 4,
   "id": "6597b165-766f-4830-b2d0-bc8f80def1fe",
   "metadata": {},
   "outputs": [
    {
     "name": "stdout",
     "output_type": "stream",
     "text": [
      "This is PPL Lab\n"
     ]
    }
   ],
   "source": [
    "print(\"This is PPL Lab\")"
   ]
  },
  {
   "cell_type": "code",
   "execution_count": 5,
   "id": "ad6d58e3-f2e5-4f68-af78-4f2e9dee653f",
   "metadata": {},
   "outputs": [
    {
     "ename": "SyntaxError",
     "evalue": "invalid syntax. Perhaps you forgot a comma? (3985163539.py, line 4)",
     "output_type": "error",
     "traceback": [
      "\u001b[1;36m  Cell \u001b[1;32mIn[5], line 4\u001b[1;36m\u001b[0m\n\u001b[1;33m    print(\"Sum =\"c)\u001b[0m\n\u001b[1;37m          ^\u001b[0m\n\u001b[1;31mSyntaxError\u001b[0m\u001b[1;31m:\u001b[0m invalid syntax. Perhaps you forgot a comma?\n"
     ]
    }
   ],
   "source": [
    "a=13\n",
    "b=6\n",
    "c=a+b\n",
    "print(\"Sum =\"c)\n",
    "#This error is due to not comma after string we taking integer value"
   ]
  },
  {
   "cell_type": "code",
   "execution_count": 6,
   "id": "736682b8-5a5e-4df1-900b-a02229e6b095",
   "metadata": {},
   "outputs": [
    {
     "name": "stdout",
     "output_type": "stream",
     "text": [
      "Sum = 19\n"
     ]
    }
   ],
   "source": [
    "a=13\n",
    "b=6\n",
    "c=a+b\n",
    "print(\"Sum =\",c)"
   ]
  },
  {
   "cell_type": "code",
   "execution_count": 7,
   "id": "199fddc3-e217-41bd-b764-5df0223927c8",
   "metadata": {},
   "outputs": [
    {
     "name": "stdout",
     "output_type": "stream",
     "text": [
      "Subtract = 7\n"
     ]
    }
   ],
   "source": [
    "a=13\n",
    "b=6\n",
    "c=a-b\n",
    "print(\"Subtract =\",c)"
   ]
  },
  {
   "cell_type": "code",
   "execution_count": 8,
   "id": "d3f4bd74-e376-47b7-9f5c-1e3f5a55504a",
   "metadata": {},
   "outputs": [
    {
     "name": "stdout",
     "output_type": "stream",
     "text": [
      "Multiplication = 78\n"
     ]
    }
   ],
   "source": [
    "a=13\n",
    "b=6\n",
    "c=a*b\n",
    "print(\"Multiplication =\",c)"
   ]
  },
  {
   "cell_type": "code",
   "execution_count": 9,
   "id": "08a4514f-f1f5-40b2-bde5-ba1c6799bb77",
   "metadata": {},
   "outputs": [
    {
     "name": "stdout",
     "output_type": "stream",
     "text": [
      "Division = 2.1666666666666665\n"
     ]
    }
   ],
   "source": [
    "a=13\n",
    "b=6\n",
    "c=a/b\n",
    "print(\"Division =\",c)"
   ]
  },
  {
   "cell_type": "code",
   "execution_count": 10,
   "id": "45051964-6df6-4efc-b6a4-82c074b629ba",
   "metadata": {},
   "outputs": [
    {
     "name": "stdout",
     "output_type": "stream",
     "text": [
      "Division = 3.5\n"
     ]
    }
   ],
   "source": [
    "a=7\n",
    "b=2\n",
    "c=a/b\n",
    "print(\"Division =\",c)"
   ]
  },
  {
   "cell_type": "code",
   "execution_count": 11,
   "id": "50017958-3eae-4a25-b8fb-087a29c7d730",
   "metadata": {},
   "outputs": [
    {
     "name": "stdout",
     "output_type": "stream",
     "text": [
      "Floor Division = 2\n"
     ]
    }
   ],
   "source": [
    "a=13\n",
    "b=6\n",
    "c=a//b\n",
    "print(\"Floor Division =\",c)"
   ]
  },
  {
   "cell_type": "code",
   "execution_count": 12,
   "id": "21b1624a-de94-47cc-aa96-e712592957b5",
   "metadata": {},
   "outputs": [
    {
     "name": "stdout",
     "output_type": "stream",
     "text": [
      "Floor Division of = 3\n"
     ]
    }
   ],
   "source": [
    "a=7\n",
    "b=2\n",
    "c=a//b\n",
    "print(\"Floor Division of =\",c)"
   ]
  },
  {
   "cell_type": "code",
   "execution_count": 13,
   "id": "63ac17d7-fd47-447c-ade5-0601fbfe4fa7",
   "metadata": {},
   "outputs": [
    {
     "name": "stdout",
     "output_type": "stream",
     "text": [
      "Floor Division of = -4\n"
     ]
    }
   ],
   "source": [
    "a=7\n",
    "b=-2\n",
    "c=a//b\n",
    "print(\"Floor Division of =\",c) #negative so toward negative value"
   ]
  },
  {
   "cell_type": "code",
   "execution_count": 14,
   "id": "3205aff8-30dc-4ea1-848c-2555c449f076",
   "metadata": {},
   "outputs": [
    {
     "name": "stdout",
     "output_type": "stream",
     "text": [
      "Floor Division of = -4\n"
     ]
    }
   ],
   "source": [
    "a=7\n",
    "b=2\n",
    "c=-a//b\n",
    "print(\"Floor Division of =\",c) #negative so toward negative value"
   ]
  },
  {
   "cell_type": "code",
   "execution_count": 15,
   "id": "96ba19f7-af3e-4a84-abba-72965fdad7e3",
   "metadata": {},
   "outputs": [
    {
     "name": "stdout",
     "output_type": "stream",
     "text": [
      "Power = 4826809\n"
     ]
    }
   ],
   "source": [
    "a=13\n",
    "b=6\n",
    "c=a**b\n",
    "print(\"Power =\",c)"
   ]
  },
  {
   "cell_type": "code",
   "execution_count": 16,
   "id": "d733350c-103a-4d7d-bcaa-07d90dd258aa",
   "metadata": {},
   "outputs": [
    {
     "name": "stdout",
     "output_type": "stream",
     "text": [
      "0.1\n"
     ]
    }
   ],
   "source": [
    "print(10**-1)"
   ]
  },
  {
   "cell_type": "code",
   "execution_count": 17,
   "id": "b0dd9224-160a-4d3b-b216-bcdf4589fb41",
   "metadata": {},
   "outputs": [
    {
     "name": "stdout",
     "output_type": "stream",
     "text": [
      "0.5\n"
     ]
    }
   ],
   "source": [
    "print(2**-1)"
   ]
  },
  {
   "cell_type": "code",
   "execution_count": 18,
   "id": "ca985a94-cdf2-4b00-81e3-004114fc64cf",
   "metadata": {},
   "outputs": [
    {
     "name": "stdout",
     "output_type": "stream",
     "text": [
      "1\n"
     ]
    }
   ],
   "source": [
    "print(7**0)"
   ]
  },
  {
   "cell_type": "code",
   "execution_count": 19,
   "id": "e190cbe3-5fee-4e68-8e59-df2d02d0ae5d",
   "metadata": {},
   "outputs": [
    {
     "name": "stdout",
     "output_type": "stream",
     "text": [
      "1\n"
     ]
    }
   ],
   "source": [
    "# % notation gives remainder\n",
    "print(7%2)"
   ]
  },
  {
   "cell_type": "code",
   "execution_count": 20,
   "id": "7e7b50c4-50b5-499d-80c3-2f2069cda9b5",
   "metadata": {},
   "outputs": [
    {
     "name": "stdout",
     "output_type": "stream",
     "text": [
      "False\n"
     ]
    }
   ],
   "source": [
    "#comparision operator {==,>,<,>=,<=,!=}\n",
    "a=2590\n",
    "b=1334\n",
    "print(a==b)"
   ]
  },
  {
   "cell_type": "code",
   "execution_count": 21,
   "id": "32be932e-0242-464c-a7c9-38ce1310cd36",
   "metadata": {},
   "outputs": [
    {
     "name": "stdout",
     "output_type": "stream",
     "text": [
      "True\n"
     ]
    }
   ],
   "source": [
    "#comparision operator {==,>,<,>=,<=,!=}\n",
    "a=2590\n",
    "b=1334\n",
    "print(a>b)"
   ]
  },
  {
   "cell_type": "code",
   "execution_count": 22,
   "id": "0c3b6c19-e422-4de9-9271-9e12ef3ef493",
   "metadata": {},
   "outputs": [
    {
     "name": "stdout",
     "output_type": "stream",
     "text": [
      "False\n"
     ]
    }
   ],
   "source": [
    "#comparision operator {==,>,<,>=,<=,!=}\n",
    "a=2590\n",
    "b=1334\n",
    "print(a<b)"
   ]
  },
  {
   "cell_type": "code",
   "execution_count": 23,
   "id": "67ba5dd1-943f-49fc-8cce-3e05c0728a4d",
   "metadata": {},
   "outputs": [
    {
     "name": "stdout",
     "output_type": "stream",
     "text": [
      "True\n"
     ]
    }
   ],
   "source": [
    "#comparision operator {==,>,<,>=,<=,!=}\n",
    "a=2590\n",
    "b=1334\n",
    "print(a>=b)"
   ]
  },
  {
   "cell_type": "code",
   "execution_count": 24,
   "id": "8088a0d4-28a8-4c91-8e79-fe981f1e1421",
   "metadata": {},
   "outputs": [
    {
     "name": "stdout",
     "output_type": "stream",
     "text": [
      "False\n"
     ]
    }
   ],
   "source": [
    "#comparision operator {==,>,<,>=,<=,!=}\n",
    "a=2590\n",
    "b=1334\n",
    "print(a<=b)"
   ]
  },
  {
   "cell_type": "code",
   "execution_count": 25,
   "id": "5a6c5159-ff08-4f08-9747-872e1c2eac4f",
   "metadata": {},
   "outputs": [
    {
     "name": "stdout",
     "output_type": "stream",
     "text": [
      "True\n"
     ]
    }
   ],
   "source": [
    "#comparision operator {==,>,<,>=,<=,!=}\n",
    "a=2590\n",
    "b=1334\n",
    "print(a!=b)"
   ]
  },
  {
   "cell_type": "code",
   "execution_count": 26,
   "id": "ca6580e5-4bc4-4777-90fa-a3f1846cf981",
   "metadata": {
    "jupyter": {
     "source_hidden": true
    }
   },
   "outputs": [],
   "source": [
    "#operation on python"
   ]
  },
  {
   "cell_type": "code",
   "execution_count": 27,
   "id": "b36ad1f4-231a-46c9-b754-4f3511339514",
   "metadata": {
    "jupyter": {
     "source_hidden": true
    }
   },
   "outputs": [],
   "source": [
    "#concatination\n"
   ]
  },
  {
   "cell_type": "code",
   "execution_count": 28,
   "id": "1fdce902-dcd4-49a8-9d08-4c0e03e439f8",
   "metadata": {
    "scrolled": true
   },
   "outputs": [
    {
     "name": "stdout",
     "output_type": "stream",
     "text": [
      "Good+Morning\n"
     ]
    }
   ],
   "source": [
    "#concatination\n",
    "print(\"Good+Morning\")"
   ]
  },
  {
   "cell_type": "code",
   "execution_count": 29,
   "id": "043a775b-a59b-48cd-bae4-a40ce998bb44",
   "metadata": {},
   "outputs": [
    {
     "name": "stdout",
     "output_type": "stream",
     "text": [
      "Good'+'Morning\n"
     ]
    }
   ],
   "source": [
    "print(\"Good'+'Morning\")"
   ]
  },
  {
   "cell_type": "code",
   "execution_count": 30,
   "id": "770e0348-7022-4c24-bac8-3600133aadc7",
   "metadata": {},
   "outputs": [
    {
     "name": "stdout",
     "output_type": "stream",
     "text": [
      "GoodMorning\n"
     ]
    }
   ],
   "source": [
    "#concatination\n",
    "print(\"Good\"+\"Morning\")"
   ]
  },
  {
   "cell_type": "code",
   "execution_count": 31,
   "id": "91e282fb-6e1d-4c79-9968-6e6afb84ae81",
   "metadata": {},
   "outputs": [
    {
     "name": "stdout",
     "output_type": "stream",
     "text": [
      "Good+3.5\n"
     ]
    }
   ],
   "source": [
    "print(\"Good+3.5\")"
   ]
  },
  {
   "cell_type": "code",
   "execution_count": 32,
   "id": "d4c856aa-216d-4a72-88b1-644baa4751e5",
   "metadata": {},
   "outputs": [
    {
     "name": "stdout",
     "output_type": "stream",
     "text": [
      "Good3.5\n"
     ]
    }
   ],
   "source": [
    "#concatination\n",
    "print(\"Good\"+\"3.5\")"
   ]
  },
  {
   "cell_type": "code",
   "execution_count": 33,
   "id": "7ffc532e-e3ef-4673-812c-c185c2217247",
   "metadata": {},
   "outputs": [
    {
     "ename": "TypeError",
     "evalue": "can only concatenate str (not \"float\") to str",
     "output_type": "error",
     "traceback": [
      "\u001b[1;31m---------------------------------------------------------------------------\u001b[0m",
      "\u001b[1;31mTypeError\u001b[0m                                 Traceback (most recent call last)",
      "Cell \u001b[1;32mIn[33], line 1\u001b[0m\n\u001b[1;32m----> 1\u001b[0m \u001b[38;5;28mprint\u001b[39m(\u001b[38;5;124m\"\u001b[39m\u001b[38;5;124mGood\u001b[39m\u001b[38;5;124m\"\u001b[39m\u001b[38;5;241m+\u001b[39m\u001b[38;5;241m3.5\u001b[39m)\n",
      "\u001b[1;31mTypeError\u001b[0m: can only concatenate str (not \"float\") to str"
     ]
    }
   ],
   "source": [
    "print(\"Good\"+3.5)"
   ]
  },
  {
   "cell_type": "code",
   "execution_count": 34,
   "id": "ff1400b3-c99d-4875-8cd2-ba9bfe15664c",
   "metadata": {},
   "outputs": [
    {
     "name": "stdout",
     "output_type": "stream",
     "text": [
      "1223.4653\n"
     ]
    }
   ],
   "source": [
    "print(\"12\"+\"23.4653\")"
   ]
  },
  {
   "cell_type": "code",
   "execution_count": 35,
   "id": "a71db623-6d73-480f-86b2-0dfecab21fe8",
   "metadata": {},
   "outputs": [
    {
     "name": "stdout",
     "output_type": "stream",
     "text": [
      "12.NITJ_25-27.4653\n"
     ]
    }
   ],
   "source": [
    "print(\"12\"+\".NITJ_25-27.4653\")"
   ]
  },
  {
   "cell_type": "code",
   "execution_count": 36,
   "id": "dd63e39a-4fdb-48d6-b516-84dffba63539",
   "metadata": {
    "jupyter": {
     "source_hidden": true
    }
   },
   "outputs": [],
   "source": [
    "#slicing"
   ]
  },
  {
   "cell_type": "code",
   "execution_count": 37,
   "id": "aa0a1181-7079-48d0-808d-696fef10c649",
   "metadata": {},
   "outputs": [
    {
     "name": "stdout",
     "output_type": "stream",
     "text": [
      "Is This PPL Lab\n"
     ]
    }
   ],
   "source": [
    "string = \"Is This PPL Lab\"\n",
    "print(string)"
   ]
  },
  {
   "cell_type": "code",
   "execution_count": 38,
   "id": "25607400-f36f-491e-823a-75a3137fd794",
   "metadata": {},
   "outputs": [],
   "source": [
    "#raw string"
   ]
  },
  {
   "cell_type": "code",
   "execution_count": null,
   "id": "14f6126b",
   "metadata": {},
   "outputs": [],
   "source": [
    "name=input(\"what is your name\")\n",
    "age=input(\"enter your age\")\n",
    "print(f\"name+\" your age is : \"+age\")"
   ]
  },
  {
   "cell_type": "code",
   "execution_count": null,
   "id": "54ecf7e3",
   "metadata": {},
   "outputs": [],
   "source": []
  }
 ],
 "metadata": {
  "kernelspec": {
   "display_name": "base",
   "language": "python",
   "name": "python3"
  },
  "language_info": {
   "codemirror_mode": {
    "name": "ipython",
    "version": 3
   },
   "file_extension": ".py",
   "mimetype": "text/x-python",
   "name": "python",
   "nbconvert_exporter": "python",
   "pygments_lexer": "ipython3",
   "version": "3.13.5"
  }
 },
 "nbformat": 4,
 "nbformat_minor": 5
}
