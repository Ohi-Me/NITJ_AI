{
  "metadata": {
    "kernelspec": {
      "name": "xpython",
      "display_name": "Python 3.13 (XPython)",
      "language": "python"
    },
    "language_info": {
      "file_extension": ".py",
      "mimetype": "text/x-python",
      "name": "python",
      "version": "3.13.1"
    }
  },
  "nbformat_minor": 5,
  "nbformat": 4,
  "cells": [
    {
      "id": "e105b2db-9e29-4e8c-a82c-bd3230a5c356",
      "cell_type": "code",
      "source": "#wap to test wheather a number is neagtive or positive\nx=int(input(\"Enter the number to check neagtive , zero or positive\"))\nif x>0:\n    print(f\"The number {x} is Positive\")\nelif x==0:\n    print(f\"The number {x} is Zero\")\nelse:\n    print(f\"The number {x} is Negative\")",
      "metadata": {
        "trusted": true
      },
      "outputs": [
        {
          "output_type": "stream",
          "name": "stdin",
          "text": "Enter the number to check neagtive , zero or positive 23\n"
        },
        {
          "name": "stdout",
          "output_type": "stream",
          "text": "The number 23 is Positive\n"
        }
      ],
      "execution_count": 2
    },
    {
      "id": "1a39de06-5ada-494f-bea1-4ce66e80e4f4",
      "cell_type": "code",
      "source": "#wap to determine wheather a charcter is vowel\nch = input(\"Enter the charcter\")\nch = ch.lower()\nif (ch=='a' or ch=='e' or ch=='i' or ch=='o' or ch=='u'):\n     print(\"Yes it is vowel\")\nelse :\n    print(\"No it is not vowel\")\n",
      "metadata": {
        "trusted": true
      },
      "outputs": [
        {
          "output_type": "stream",
          "name": "stdin",
          "text": "Enter the charcter 2\n"
        },
        {
          "name": "stdout",
          "output_type": "stream",
          "text": "No it is not vowel\n"
        }
      ],
      "execution_count": 2
    },
    {
      "id": "097e4dc1-38ce-473d-9c6c-9a2164fcd22e",
      "cell_type": "code",
      "source": "#wap is it number or charcter upper case or lower case\nch = input(\"Enter the charcter\")\nif ch.isdigit():\n    print(\"Yes it is number\")\nelse:\n    if (ch.isupper()):\n         print(\"Yes it is UpperCase\")\n    else :\n        print(\"No it is LowerCase\")\n",
      "metadata": {
        "trusted": true
      },
      "outputs": [
        {
          "output_type": "stream",
          "name": "stdin",
          "text": "Enter the charcter d\n"
        },
        {
          "name": "stdout",
          "output_type": "stream",
          "text": "No it is LowerCase\n"
        }
      ],
      "execution_count": 3
    },
    {
      "id": "f3a83b9f-ddc6-4c23-9870-29eff2d04441",
      "cell_type": "code",
      "source": "## sorting of 3 number in acsending or descending order\narr= [3]\nprint(\"Enter three number to do sorting\")\nfor i in range(0,3):\n    x=int(input())\n    arr.append(x)\n\narr.sort()\nprint(\"Numbers are sorted in Ascending Order\")\nfor i in range (0,3):\n    print(arr[i],end=\" \")\nprint(\"\")\narr.sort(reverse=True)\nprint(\"Numbers are sorted in Descending Order\")\nfor i in range (0,3):\n    print(arr[i],end=\" \")",
      "metadata": {
        "trusted": true
      },
      "outputs": [
        {
          "name": "stdout",
          "output_type": "stream",
          "text": "Enter three number to do sorting\n"
        },
        {
          "output_type": "stream",
          "name": "stdin",
          "text": " 1232\n 423\n 123\n"
        },
        {
          "name": "stdout",
          "output_type": "stream",
          "text": "Numbers are sorted in Ascending Order\n3 123 423 \nNumbers are sorted in Descending Order\n1232 423 123 "
        }
      ],
      "execution_count": 5
    },
    {
      "id": "c111cfd0-7ee7-4e31-81f8-2657531f6fa1",
      "cell_type": "code",
      "source": "#while loop\n#range \n#range (5) 0 1 2 3 4\n#range(2,5) 2 3 4\n#range (3,7,2) 3 5 7",
      "metadata": {
        "trusted": true
      },
      "outputs": [],
      "execution_count": null
    },
    {
      "id": "b14caa62-4383-41c5-9728-43e571a55149",
      "cell_type": "code",
      "source": "#wap to checck it is armstrong number\nx=int(input(\"Enter number\"))\n",
      "metadata": {
        "trusted": true
      },
      "outputs": [],
      "execution_count": null
    },
    {
      "id": "ec8e2508-c3f9-47e3-ab71-01d3134c9099",
      "cell_type": "code",
      "source": "#wwap to enter decimal number convert it into binary\nx=input(\"Enter decimal number\")\nif(x.isdigit()):\n    # y=bin(int(x))\n    y=int(x)\n    # ch=None\n    # str(ch)\n    ch=\"\"\n    while y>0:\n        # if(y%2!=0):\n        #     ch+=(f'y%2')\n        # else:\n        #     ch+=('0')\n        ch= str(y%2)+ch\n        y//=2\n    print(ch)\nelse:\n    print(\"please enter number between [0-9]\")\n    ",
      "metadata": {
        "trusted": true
      },
      "outputs": [
        {
          "output_type": "stream",
          "name": "stdin",
          "text": "Enter decimal number 34\n"
        },
        {
          "name": "stdout",
          "output_type": "stream",
          "text": "100010\n"
        }
      ],
      "execution_count": 1
    },
    {
      "id": "06205323-555e-439a-8002-bfbde91e9a86",
      "cell_type": "code",
      "source": "#wap to print reverse of number\nx=int(input(\"Enter number\"))\nch=str(x)\nsize=len(ch)-1\nnch=\"\"\nwhile size>=0:\n    nch=nch+ch[size]\n    size=size-1\nz=int(nch)\nprint(z)",
      "metadata": {
        "trusted": true
      },
      "outputs": [
        {
          "output_type": "stream",
          "name": "stdin",
          "text": "Enter number 2324\n"
        },
        {
          "name": "stdout",
          "output_type": "stream",
          "text": "4232\n"
        }
      ],
      "execution_count": 5
    },
    {
      "id": "8fe0853b-383a-4319-a91e-4bc090dff8d8",
      "cell_type": "code",
      "source": "#wap using for loop to calculate factorial of number\nx=int(input(\"Enter number\"))\nfac=1;\nfor i in range(1,x):\n    fac=fac*i\nfac=fac*x\nprint(fac)",
      "metadata": {
        "trusted": true
      },
      "outputs": [
        {
          "output_type": "stream",
          "name": "stdin",
          "text": "Enter number 4\n"
        },
        {
          "name": "stdout",
          "output_type": "stream",
          "text": "24\n"
        }
      ],
      "execution_count": 14
    },
    {
      "id": "76398ab5-2951-453b-885e-b6417c719cfb",
      "cell_type": "code",
      "source": "#wap using for loop to print multiplication table of number\nx=int(input(\"Enter number\"))\nfor i in range(1,11):\n    print(f\"{x}x{i} = {x*i}\")",
      "metadata": {
        "trusted": true
      },
      "outputs": [
        {
          "output_type": "stream",
          "name": "stdin",
          "text": "Enter number 16\n"
        },
        {
          "name": "stdout",
          "output_type": "stream",
          "text": "16x1 = 16\n16x2 = 32\n16x3 = 48\n16x4 = 64\n16x5 = 80\n16x6 = 96\n16x7 = 112\n16x8 = 128\n16x9 = 144\n16x10 = 160\n"
        }
      ],
      "execution_count": 15
    },
    {
      "id": "8c2e5076-05ad-435e-9799-faf0c04b48bb",
      "cell_type": "code",
      "source": "## wap diplay all the leap years 1900 to 2101\nx=int(input(\"Enter year to check leap year\"))\nif((x%100==0) or (x%4==0)):\n    print(f\"Yes the {x} is leap year\")\nelse:\n    print(f\"No the {x} is not leap year\")",
      "metadata": {
        "trusted": true
      },
      "outputs": [
        {
          "output_type": "stream",
          "name": "stdin",
          "text": "Enter year to check leap year 1234\n"
        },
        {
          "name": "stdout",
          "output_type": "stream",
          "text": "No the 1234 is not leap year\n"
        }
      ],
      "execution_count": 20
    },
    {
      "id": "76032dbe-1e31-440f-8b57-b9acaf994da8",
      "cell_type": "code",
      "source": "# wap to sum series 1+1/2+1/3....\nn=int(input(\"Enter size of series\"))\nsumm=0\nfor i in range(1,n+1):\n    summ+=(1/i)\nprint(summ)",
      "metadata": {
        "trusted": true,
        "scrolled": true
      },
      "outputs": [
        {
          "output_type": "stream",
          "name": "stdin",
          "text": "Enter size of series 11\n"
        },
        {
          "name": "stdout",
          "output_type": "stream",
          "text": "3.0198773448773446\n"
        }
      ],
      "execution_count": 26
    },
    {
      "id": "5a8e7fff-3e19-4d60-9cd8-c5a7c8cb979a",
      "cell_type": "code",
      "source": "#wap calculate sum of cubes of number 1-n\nn=int(input(\"Enter to calculate cubes sum of n number\"))\nsumm=0\nfor i in range(1,n+1):\n    summ+=i**3\nprint(summ)",
      "metadata": {
        "trusted": true
      },
      "outputs": [
        {
          "output_type": "stream",
          "name": "stdin",
          "text": "Enter to calculate cubes sum of n number 5\n"
        },
        {
          "name": "stdout",
          "output_type": "stream",
          "text": "225\n"
        }
      ],
      "execution_count": 29
    },
    {
      "id": "5280866b-efc6-479b-b598-6541fffdbb7a",
      "cell_type": "code",
      "source": "",
      "metadata": {
        "trusted": true
      },
      "outputs": [],
      "execution_count": null
    },
    {
      "id": "829d85c4-db82-4b22-9131-3d83735a6bba",
      "cell_type": "code",
      "source": "",
      "metadata": {
        "trusted": true
      },
      "outputs": [],
      "execution_count": null
    }
  ]
}