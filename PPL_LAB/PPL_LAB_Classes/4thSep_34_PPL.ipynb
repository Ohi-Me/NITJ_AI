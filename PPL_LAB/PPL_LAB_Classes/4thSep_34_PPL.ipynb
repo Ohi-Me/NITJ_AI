{
  "metadata": {
    "kernelspec": {
      "name": "xpython",
      "display_name": "Python 3.13 (XPython)",
      "language": "python"
    },
    "language_info": {
      "file_extension": ".py",
      "mimetype": "text/x-python",
      "name": "python",
      "version": "3.13.1"
    }
  },
  "nbformat_minor": 5,
  "nbformat": 4,
  "cells": [
    {
      "id": "67572b3b-02ab-4a98-b4ef-462054b7a1e0",
      "cell_type": "code",
      "source": "name=input(\"what is your name\")\nage=input(\"enter your age\")\nprint(f\"{name} your age is : {age}\")",
      "metadata": {
        "trusted": true
      },
      "outputs": [
        {
          "output_type": "stream",
          "name": "stdin",
          "text": "what is your name Rohit\nenter your age 25\n"
        },
        {
          "name": "stdout",
          "output_type": "stream",
          "text": "Rohit your age is : 25\n"
        }
      ],
      "execution_count": 2
    },
    {
      "id": "ae071422-2b71-45a9-8b57-85de298c0e2a",
      "cell_type": "code",
      "source": "#write a program to enter a number and display its hex octal and its square root\nimport math\nnumber=int(input(\"Enter the number\"))\nb=bin(number)\nh=hex(number)\no=oct(number)\ns=math.sqrt(number)\nprint(f\"ths binary representation of number you gave : {b}\")\nprint(f\"ths binary representation of number you gave : {h}\")\nprint(f\"ths binary representation of number you gave : {o}\")\nprint(f\"ths binary representation of number you gave : {s}\")\n",
      "metadata": {
        "trusted": true
      },
      "outputs": [
        {
          "output_type": "stream",
          "name": "stdin",
          "text": "Enter the number 25\n"
        },
        {
          "name": "stdout",
          "output_type": "stream",
          "text": "ths binary representation of number you gave : 0b11001\nths binary representation of number you gave : 0x19\nths binary representation of number you gave : 0o31\nths binary representation of number you gave : 5.0\n"
        }
      ],
      "execution_count": 7
    },
    {
      "id": "0ba6e32d-61b3-4094-820e-f37b8a39129e",
      "cell_type": "code",
      "source": "#type casting vs type coercion\n#write to calculate area of a triangle using heron\"s formula\na=float(input(\"Enter the first sides of traingle : \"))\nb=float(input(\"Enter the second sides of traingle : \"))\nc=float(input(\"Enter the third sides of traingle : \"))\ns=(a+b+c)/2\narea=s*(s-a)*(s-b)*(s-c)\nprint(f\"The area of triangle as you given sides is : {area}\")",
      "metadata": {
        "trusted": true
      },
      "outputs": [
        {
          "output_type": "stream",
          "name": "stdin",
          "text": "Enter the first sides of traingle :  23\nEnter the second sides of traingle :  24\nEnter the third sides of traingle :  34\n"
        },
        {
          "name": "stdout",
          "output_type": "stream",
          "text": "The area of triangle as you given sides is : 76013.4375\n"
        }
      ],
      "execution_count": 13
    },
    {
      "id": "4c1ba3b8-8324-4036-a4e5-557fe037e474",
      "cell_type": "code",
      "source": "#write a program to calculate distance between two points\nimport math\nx1=float(input(\"Enter the x1 points of given (x1,y1) : \"))\nx2=float(input(\"Enter the x2 points of given (x1,y1) : \"))\ny1=float(input(\"Enter the y1 ponits of given (x2,y2) : \"))\ny2=float(input(\"Enter the y2 ponits of given (x2,y2) : \"))\ncal=math.pow((x1-x2),2)+math.pow((y1-y2),2)\ndistance=math.sqrt(cal)\nprint(f\"The distance of two given points as : {distance}\")",
      "metadata": {
        "trusted": true
      },
      "outputs": [
        {
          "output_type": "stream",
          "name": "stdin",
          "text": "Enter the x1 points of given (x1,y1) :  2\nEnter the x2 points of given (x1,y1) :  3\nEnter the y1 ponits of given (x2,y2) :  55\nEnter the y2 ponits of given (x2,y2) :  5\n"
        },
        {
          "name": "stdout",
          "output_type": "stream",
          "text": "The distance of two given points as : 50.00999900019995\n"
        }
      ],
      "execution_count": 16
    },
    {
      "id": "3e642fe8-07fa-41a6-a5fc-119657d4a639",
      "cell_type": "code",
      "source": "#wap to perform addition,subtraction,divison,multiplication of two floating point number\nx1=float(input(\"Enter the first floating point number : \"))\nx2=float(input(\"Enter the second floating point number : \"))\nprint(f\"The addition of two given number as : {x1+x2}\")\nprint(f\"The subtraction of two given number as : {x1-x2}\")\nprint(f\"The division of two given number as : {x1/x2}\")\nprint(f\"The multiplication of two given number as : {x1*x2}\")",
      "metadata": {
        "trusted": true
      },
      "outputs": [
        {
          "output_type": "stream",
          "name": "stdin",
          "text": "Enter the first floating point number :  2134.123\nEnter the second floating point number :  1234.39876\n"
        },
        {
          "name": "stdout",
          "output_type": "stream",
          "text": "The addition of two given number as : 3368.52176\nThe subtraction of two given number as : 899.72424\nThe division of two given number as : 1.7288764936866916\nThe multiplication of two given number as : 2634358.78488748\n"
        }
      ],
      "execution_count": 18
    },
    {
      "id": "d6d1c510-e82e-4d80-aa90-4ef513f752f9",
      "cell_type": "code",
      "source": "## write a program to calculate bill amount for item given its quantity , sold value and discount and tax, to reprsent as in this way\n#**********BILL**********\n#Quantity sold:         9\n#Price per item:        9\n#Amount: \n#Discount:              \n#Discount total:\n#Tax\n#Total amount to be paid:\n\nq=float(input(\"Enter the quantity of the product : \"))\ns=float(input(\"Enter the sold value of the product : \"))\nd=float(input(\"Enter the discount % on the product : \"))\nt=float(input(\"Enter the tax % on the product : \"))\nprint(\"\\n*************************BILL*************************\") #simple method printing as string\nprint(format(\"BILL\",\"*^54\")) #using center specifier\nprint(format(\"*\"*25+\"BILL\"+\"*\"*25)) #using multiplication\nprint(f\"Quantity sold:                                        {q}\")\nprint(f\"Price per item:                                       {s}\")\nprint(f\"Amount:                                               {q*s}\")\nprint(f\"Discount on one product:                              {(s)*d/100}\")\nprint(f\"Discount total:                                       {(q*s)*d/100}\")\nprint(f\"Tax:                                                  {t}\")\nprint(f\"Total amount to be paid:                              {(q*s+(((q*s)-((q*s)*d/100))*t/100))}\")",
      "metadata": {
        "trusted": true
      },
      "outputs": [
        {
          "output_type": "stream",
          "name": "stdin",
          "text": "Enter the quantity of the product :  20\nEnter the sold value of the product :  2000\nEnter the discount % on the product :  15\nEnter the tax % on the product :  18\n"
        },
        {
          "name": "stdout",
          "output_type": "stream",
          "text": "\n*************************BILL*************************\n*************************BILL*************************\n*************************BILL*************************\nQuantity sold:                                        20.0\nPrice per item:                                       2000.0\nAmount:                                               40000.0\nDiscount on one product:                              300.0\nDiscount total:                                       6000.0\nTax:                                                  18.0\nTotal amount to be paid:                              46120.0\n"
        }
      ],
      "execution_count": 40
    },
    {
      "id": "b2225151-ea26-4b31-8488-fb9ac63b1864",
      "cell_type": "code",
      "source": "#write a program to calculate students result based on two examinations, \n#1 sport event and 3 activities conducted weightage of activities 30% , sports 20% , examination 50%\ne=int(input(\"Enter the score obtained in Examination : \"))\nq=int(input(\"Enter the score obtained in sport event : \"))\na1=int(input(\"Enter the score obtained in 1st activity event : \"))\na2=int(input(\"Enter the score obtained in 2nd activity event  : \"))\na3=int(input(\"Enter the score obtained in 3rd activity event  : \"))\nprint(f\"Student overall score comprising sport event and three activities : {(((((e*5)/100)+(q*2)/100)+((a1*1)/100)+((a2*1)/100)+((a3*1)/100))*10)}\")  ",
      "metadata": {
        "trusted": true
      },
      "outputs": [
        {
          "output_type": "stream",
          "name": "stdin",
          "text": "Enter the score obtained in Examination :  60\nEnter the score obtained in sport event :  90\nEnter the score obtained in 1st activity event :  34\nEnter the score obtained in 2nd activity event  :  90\nEnter the score obtained in 3rd activity event  :  90\n"
        },
        {
          "name": "stdout",
          "output_type": "stream",
          "text": "Student overall score comprising sport event and three activities : 69.4\n"
        }
      ],
      "execution_count": 49
    },
    {
      "id": "f49216cb-4d40-485f-82d1-80c3c27246ba",
      "cell_type": "code",
      "source": "#write a program to convert degree fahreheit into degree celcius\nf=float(input(\"Enter the degree Fahreheit temprature : \"))\nc=((f-32)*5)/9\nprint(f\"the Degree Celcius Temprature of Degree Fahreheit {f} is : {c}\")",
      "metadata": {
        "trusted": true
      },
      "outputs": [
        {
          "output_type": "stream",
          "name": "stdin",
          "text": "Enter the degree Fahreheit temprature :  98.8\n"
        },
        {
          "name": "stdout",
          "output_type": "stream",
          "text": "the Degree Celcius Temprature of Degree Fahreheit 98.8 is : 37.111111111111114\n"
        }
      ],
      "execution_count": 52
    },
    {
      "id": "32ba80c5-504f-4ca3-9b6e-c3919f70ceb2",
      "cell_type": "code",
      "source": "#wap to calculate total amount of money in piggbank given coins of Rs10,Rs5,Rs2,Rs1\nx=int(input(\"How many u have Rs 10 coins in piggbank : \"))\ny=int(input(\"How many u have Rs 5 coins in piggbank : \"))\nw=int(input(\"How many u have Rs 2 coins in piggbank : \"))\nz=int(input(\"How many u have Rs 1 coins in piggbank : \"))\nprint(f\"the Total coins u have {x+y+w+z} and total amount of money in your piggybank is : Rs {x*10+y*5+w*2+z}\")",
      "metadata": {
        "trusted": true
      },
      "outputs": [
        {
          "output_type": "stream",
          "name": "stdin",
          "text": "How many u have Rs 10 coins in piggbank :  10\nHow many u have Rs 5 coins in piggbank :  20\nHow many u have Rs 2 coins in piggbank :  30\nHow many u have Rs 1 coins in piggbank :  40\n"
        },
        {
          "name": "stdout",
          "output_type": "stream",
          "text": "the Total coins u have 100 and total amount of money in your piggybank is : Rs 300\n"
        }
      ],
      "execution_count": 56
    },
    {
      "id": "068099ec-04cf-4136-816b-0a9c42fe7b87",
      "cell_type": "code",
      "source": "",
      "metadata": {
        "trusted": true
      },
      "outputs": [],
      "execution_count": null
    }
  ]
}