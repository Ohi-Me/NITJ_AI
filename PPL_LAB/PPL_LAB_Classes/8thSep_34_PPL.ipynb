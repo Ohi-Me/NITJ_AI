{
  "cells": [
    {
      "cell_type": "code",
      "execution_count": 1,
      "id": "fbb0f235",
      "metadata": {
        "trusted": true
      },
      "outputs": [],
      "source": [
        "#Dicison Control\n",
        "#[selction control type, ]\n",
        "\n",
        "#selection control type\n",
        "#1.sequential control statement\n",
        "#2.slection control statement\n",
        "#3.Iterrative control statement\n"
      ]
    },
    {
      "cell_type": "code",
      "execution_count": null,
      "id": "f8515c47",
      "metadata": {
        "trusted": true
      },
      "outputs": [],
      "source": [
        "#if statement\n",
        "num=int(input(\"Enter any number\"))\n",
        "if num>0:\n",
        "    print(f\"You Given positive number that is {num}\")\n",
        "else :\n",
        "    print(f\"Nah U gave negative number which is {num}\")"
      ]
    },
    {
      "cell_type": "code",
      "execution_count": 4,
      "id": "3ff9c3fc",
      "metadata": {
        "trusted": true
      },
      "outputs": [
        {
          "name": "stdout",
          "output_type": "stream",
          "text": [
            "Enter any your age lets check you are eligible to vote or not 34\n"
          ]
        },
        {
          "name": "stdout",
          "output_type": "stream",
          "text": [
            "You are eligible to vote, Go vote Its imortant!! 34\n"
          ]
        }
      ],
      "source": [
        "# wap to check eligiblity to vote in india\n",
        "num=int(input(\"Enter any your age lets check you are eligible to vote or not\"))\n",
        "if num>=18:\n",
        "    print(f\"You are eligible to vote, Go vote Its imortant!! {num}\")\n",
        "else :\n",
        "    print(f\"Nah U gave are below age {num}\")"
      ]
    },
    {
      "cell_type": "code",
      "execution_count": 10,
      "id": "4678d37e-0313-4c36-8bc2-32a435ab651a",
      "metadata": {
        "trusted": true
      },
      "outputs": [
        {
          "name": "stdout",
          "output_type": "stream",
          "text": [
            "Enter any your any string or character dcvrg34tw32qwefd\n"
          ]
        },
        {
          "name": "stdout",
          "output_type": "stream",
          "text": [
            "You entered combination of character and numbers as : dcvrg34tw32qwefd\n"
          ]
        }
      ],
      "source": [
        "# wap to determine the character input by user\n",
        "ths=input(\"Enter any your any string or character\")\n",
        "# length=str.len\n",
        "# for x in range(0,length):\n",
        "#     print(str[i]+\" \");\n",
        "if ths.isalpha():\n",
        "    print(f\"You entered string as {ths}\")\n",
        "elif ths.isdigit():\n",
        "    print(f\"You enterned number as {ths}\")\n",
        "else :\n",
        "    print(f\"You entered combination of character and numbers as : {ths}\")\n"
      ]
    },
    {
      "cell_type": "code",
      "execution_count": 13,
      "id": "20701ccd-c297-48dc-a739-7d8e337c6c2b",
      "metadata": {
        "trusted": true
      },
      "outputs": [
        {
          "name": "stdout",
          "output_type": "stream",
          "text": [
            "Enter any your age lets check you are eligible to vote or not or how many left to vote 12\n"
          ]
        },
        {
          "name": "stdout",
          "output_type": "stream",
          "text": [
            "Nah U gave are below age and you need 6 years to vote\n"
          ]
        }
      ],
      "source": [
        "# wap to determine wheather person is eligible to vote or not if he is not eligible display how many years are left to eligible\n",
        "num=int(input(\"Enter any your age lets check you are eligible to vote or not or how many left to vote\"))\n",
        "if num>=18:\n",
        "    print(f\"You are eligible to vote, Go vote Its imortant!!\")\n",
        "else :\n",
        "    print(f\"Nah U gave are below age and you need {18-num} years to vote\")"
      ]
    },
    {
      "cell_type": "code",
      "execution_count": 17,
      "id": "d9855b14-4ff6-4dd3-9167-4d4dbba5d2bf",
      "metadata": {
        "trusted": true
      },
      "outputs": [
        {
          "name": "stdout",
          "output_type": "stream",
          "text": [
            "Enter any number 1 345\n",
            "Enter any number 2 3456\n"
          ]
        },
        {
          "name": "stdout",
          "output_type": "stream",
          "text": [
            "The number 2 : 3456 you entered is equal than number 1 : 345\n"
          ]
        }
      ],
      "source": [
        "# wap to determine larger number\n",
        "num1=int(input(\"Enter any number 1\"))\n",
        "num2=int(input(\"Enter any number 2\"))\n",
        "\n",
        "if num1>num2:\n",
        "    print(f\"The number 1 : {num1} you entered is bigger than number 2 : {num2}\")\n",
        "elif num2==num2:\n",
        "    print(f\"The number 2 : {num2} you entered is equal than number 1 : {num1}\")\n",
        "else :\n",
        "    print(f\"The number 1 : {num1} you entered is bigger than number 2 : {num2}\")"
      ]
    },
    {
      "cell_type": "code",
      "execution_count": 19,
      "id": "8c2b08f2-2281-46e2-a8fb-12d31dff10ea",
      "metadata": {
        "trusted": true
      },
      "outputs": [
        {
          "name": "stdout",
          "output_type": "stream",
          "text": [
            "Enter any character oihgfxz\n"
          ]
        },
        {
          "name": "stdout",
          "output_type": "stream",
          "text": [
            "You entered charcter as oihgfxz\n",
            "The lowercase charcter of oihgfxz is oihgfxz\n"
          ]
        }
      ],
      "source": [
        "#wap enter any character if any charcter is in lower case then convert it into upper case and vice versa\n",
        "ths=input(\"Enter any character\")\n",
        "if ths.isalpha():\n",
        "    print(f\"You entered charcter as {ths}\")\n",
        "    if ths.islower():\n",
        "        print(f\"The lowercase charcter of {ths} is {ths.lower()}\")\n",
        "    else:\n",
        "        print(f\"The lowercase charcter of {ths} is {ths.upper()}\")\n",
        "else :\n",
        "    print(f\"You didnt entered any cahacter please enter again!!\")"
      ]
    },
    {
      "cell_type": "code",
      "execution_count": null,
      "id": "0d7ad94b-6785-499b-bd5e-7cd2090ca41c",
      "metadata": {
        "trusted": true
      },
      "outputs": [],
      "source": []
    }
  ],
  "metadata": {
    "kernelspec": {
      "display_name": "base",
      "language": "python",
      "name": "python3"
    },
    "language_info": {
      "codemirror_mode": {
        "name": "ipython",
        "version": 3
      },
      "file_extension": ".py",
      "mimetype": "text/x-python",
      "name": "python",
      "nbconvert_exporter": "python",
      "pygments_lexer": "ipython3",
      "version": "3.13.5"
    }
  },
  "nbformat": 4,
  "nbformat_minor": 5
}
