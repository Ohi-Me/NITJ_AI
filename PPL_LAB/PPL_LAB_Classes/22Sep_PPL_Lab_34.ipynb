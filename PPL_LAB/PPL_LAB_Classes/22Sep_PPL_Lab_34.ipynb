{
  "metadata": {
    "kernelspec": {
      "name": "xpython",
      "display_name": "Python 3.13 (XPython)",
      "language": "python"
    },
    "language_info": {
      "file_extension": ".py",
      "mimetype": "text/x-python",
      "name": "python",
      "version": "3.13.1"
    }
  },
  "nbformat_minor": 5,
  "nbformat": 4,
  "cells": [
    {
      "id": "8ece7140-61d2-4016-9308-78eff89b70e6",
      "cell_type": "code",
      "source": "#write a fucntion call remainder that takes in parameter a and y ( where y default value 4 ) and return the remainder divided by y ignore cases for x in negative\ndef check(x,y):\n    if(x<0):\n        print(\"\")\n    else:\n        print(f\"{x%y}\")\nx=int(input(\"Enter Number\"))\ny=4\ncheck(x,y)",
      "metadata": {
        "trusted": true
      },
      "outputs": [
        {
          "output_type": "stream",
          "name": "stdin",
          "text": "Enter Number 34\n"
        },
        {
          "name": "stdout",
          "output_type": "stream",
          "text": "2\n"
        }
      ],
      "execution_count": 28
    },
    {
      "id": "647bcd7c-27f7-4d7c-8e8d-feda602ba3ab",
      "cell_type": "code",
      "source": "#write a pyhton function that print out first n rows of pascal number\ndef pascal(n):\n    if n <= 0:\n        return\n        \n    print(\"1\")\n    if n == 1:\n        return\n        \n    print(\"1 1\")\n    if n == 2:\n        return\n        \n    prev = [1, 1]\n    for i in range(3, n + 1):\n        curr = [1]\n        for j in range(1, len(prev)):\n            curr.append(prev[j-1] + prev[j])\n        curr.append(1)\n        for k in range(0,len(curr)):\n            print(curr[k],end=\" \")\n        print()\n        prev = curr\n\nx = int(input(\"Enter n number for Pascal triangle: \"))\npascal(x)",
      "metadata": {
        "trusted": true
      },
      "outputs": [
        {
          "output_type": "stream",
          "name": "stdin",
          "text": "Enter n number for Pascal triangle:  5\n"
        },
        {
          "name": "stdout",
          "output_type": "stream",
          "text": "1\n1 1\n1 2 1 \n1 3 3 1 \n1 4 6 4 1 \n"
        }
      ],
      "execution_count": 25
    },
    {
      "id": "16ab035d-1f1c-41e9-8c6c-42cbf409fa33",
      "cell_type": "code",
      "source": "#write a function somePdivisors that finds sum of proper divisor of a number\n\ndef SomePdiv(x):\n    sum=1;\n    for i in range(2,x//2+1):\n        if(x%i==0):\n            sum+=i\n    sum+=x\n    print(sum)\n    \nx=int(input(\"Enter n Number For Sum Of Divisor of that Number (1-n) : \"))\nSomePdiv(x)\n",
      "metadata": {
        "trusted": true
      },
      "outputs": [
        {
          "output_type": "stream",
          "name": "stdin",
          "text": "Enter n Number For Sum Of Divisor of that Number (1-n) :  10000000\n"
        },
        {
          "name": "stdout",
          "output_type": "stream",
          "text": "24902280\n"
        }
      ],
      "execution_count": 15
    },
    {
      "id": "76d868aa-ac6f-4a66-942d-52be1e9c57ae",
      "cell_type": "code",
      "source": "#write menu driven funtion to perfomr a iv sub multi to two integers\n\ndef cal(x,y,z):\n    if(z=='+'):\n        print(f\"Addition = {x+y}\")\n    elif(z=='+'):\n        print(f\"Subtarction = {x-y}\")\n    elif(z=='*'):\n        print(f\"Multiplication = {x*y}\")\n    elif(z=='+'):\n        print(f\"Divide = {x//y}\")\nx=int(input(\"Enter first Number\"))\ny=int(input(\"Enter second Number\"))\nz=input(\"Enter charcter for calculation ( + , - , * , //)\")\ncal(x,y,z)",
      "metadata": {
        "trusted": true
      },
      "outputs": [
        {
          "output_type": "stream",
          "name": "stdin",
          "text": "Enter first Number 34\nEnter second Number 20\nEnter charcter for calculation ( + , - , * , //) *\n"
        },
        {
          "name": "stdout",
          "output_type": "stream",
          "text": "Multiplication = 680\n"
        }
      ],
      "execution_count": 16
    },
    {
      "id": "c3ae767c-16c4-4f77-b98a-287c062c352a",
      "cell_type": "code",
      "source": "#write function to compute compoun interset\ndef compound(x,y,z):\n    print(f\"Compound Interset of principal amount is: {x*(((100+y)/100)**z)}\")\n\n\nx=int(input(\"Enter Principal Value\"))\ny=int(input(\"Enter Interest rate\"))\nz=int(input(\"Enter year\"))\n\ncompound(x,y,z)",
      "metadata": {
        "trusted": true
      },
      "outputs": [
        {
          "output_type": "stream",
          "name": "stdin",
          "text": "Enter Principal Value 1000\nEnter Interest rate 30\nEnter year 3\n"
        },
        {
          "name": "stdout",
          "output_type": "stream",
          "text": "Compound Interset of principal amount is: 2197.0\n"
        }
      ],
      "execution_count": 17
    },
    {
      "id": "94b2659c-c0c8-4d13-ba7b-e2e860736288",
      "cell_type": "code",
      "source": "",
      "metadata": {
        "trusted": true
      },
      "outputs": [],
      "execution_count": null
    }
  ]
}